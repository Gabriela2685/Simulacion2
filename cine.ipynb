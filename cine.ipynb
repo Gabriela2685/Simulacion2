{
  "nbformat": 4,
  "nbformat_minor": 0,
  "metadata": {
    "colab": {
      "provenance": [],
      "include_colab_link": true
    },
    "kernelspec": {
      "name": "python3",
      "display_name": "Python 3"
    },
    "language_info": {
      "name": "python"
    }
  },
  "cells": [
    {
      "cell_type": "markdown",
      "metadata": {
        "id": "view-in-github",
        "colab_type": "text"
      },
      "source": [
        "<a href=\"https://colab.research.google.com/github/Gabriela2685/Simulacion2/blob/main/cine.ipynb\" target=\"_parent\"><img src=\"https://colab.research.google.com/assets/colab-badge.svg\" alt=\"Open In Colab\"/></a>"
      ]
    },
    {
      "cell_type": "code",
      "source": [
        "pip install simpy"
      ],
      "metadata": {
        "colab": {
          "base_uri": "https://localhost:8080/"
        },
        "id": "eCsKZdPeeVCz",
        "outputId": "572fad53-15f8-43b2-d753-c04d80551a93"
      },
      "execution_count": null,
      "outputs": [
        {
          "output_type": "stream",
          "name": "stdout",
          "text": [
            "Collecting simpy\n",
            "  Downloading simpy-4.1.1-py3-none-any.whl.metadata (6.1 kB)\n",
            "Downloading simpy-4.1.1-py3-none-any.whl (27 kB)\n",
            "Installing collected packages: simpy\n",
            "Successfully installed simpy-4.1.1\n"
          ]
        }
      ]
    },
    {
      "cell_type": "markdown",
      "source": [
        "#Cine\n",
        "\n",
        "Un cine tiene una taquilla que vende boletos para 6 películas. Cuando se agotan los boletos para una película, todas las personas que esperan comprar entradas para esa película deben retirarse de la fila."
      ],
      "metadata": {
        "id": "qNde11PRgO53"
      }
    },
    {
      "cell_type": "code",
      "execution_count": null,
      "metadata": {
        "id": "oa5wyIR0eEjY"
      },
      "outputs": [],
      "source": [
        "import collections\n",
        "import random\n",
        "import simpy as sp"
      ]
    },
    {
      "cell_type": "code",
      "source": [
        "x0 = 42\n",
        "tickets = 50  #por pelicula\n",
        "sim_time = 120  #minutos"
      ],
      "metadata": {
        "id": "7nrr522FeeEw"
      },
      "execution_count": null,
      "outputs": []
    },
    {
      "cell_type": "code",
      "source": [
        "def moviegoer(env, movie, num_tickets, theater):\n",
        "    #El cliente intenta adquirir un numero de boletos para una funcion\n",
        "    with theater.counter.request() as my_turn:\n",
        "        #Esperar turno hasta que se agoten los boletos\n",
        "        result = yield my_turn | theater.sold_out[movie]\n",
        "\n",
        "        #Comprobar si el cliente puede ser atendido o si los boletos se han agotado\n",
        "        if my_turn not in result:\n",
        "            theater.num_renegers[movie] += 1\n",
        "            return\n",
        "\n",
        "        #Comprobar si quedan suficientes boletos\n",
        "        if theater.available[movie] < num_tickets:\n",
        "            #El cliente sale de la fila\n",
        "            yield env.timeout(0.5)\n",
        "            return\n",
        "\n",
        "        #Compra de boletos\n",
        "        theater.available[movie] -= num_tickets\n",
        "        if theater.available[movie] < 2:\n",
        "            #Todos los boletos se han agotado\n",
        "            theater.sold_out[movie].succeed()\n",
        "            theater.when_sold_out[movie] = env.now\n",
        "            theater.available[movie] = 0\n",
        "        yield env.timeout(1)\n"
      ],
      "metadata": {
        "id": "QMbwKiJZew9T"
      },
      "execution_count": null,
      "outputs": []
    },
    {
      "cell_type": "code",
      "source": [
        "def customer_arrivals(env, theater):\n",
        "    #Crear nuevos clientes hasta el tiempo de simulacion\n",
        "    while True:\n",
        "        yield env.timeout(random.expovariate(1 / 0.5)) #La llegada de los clientes sigue unas dist. exponencial\n",
        "\n",
        "        movie = random.choice(theater.movies)\n",
        "        num_tickets = random.randint(1, 6)\n",
        "        if theater.available[movie]:\n",
        "            env.process(moviegoer(env, movie, num_tickets, theater))\n",
        "\n",
        "Theater = collections.namedtuple('Theater', 'counter, movies, available, '\n",
        "                                            'sold_out, when_sold_out, '\n",
        "                                            'num_renegers')"
      ],
      "metadata": {
        "id": "01jwuT06hse2"
      },
      "execution_count": null,
      "outputs": []
    },
    {
      "cell_type": "code",
      "source": [
        "#Configuración de la simulacion\n",
        "random.seed(x0)\n",
        "env = sp.Environment()"
      ],
      "metadata": {
        "id": "qrlnqBQDi46k"
      },
      "execution_count": null,
      "outputs": []
    },
    {
      "cell_type": "code",
      "source": [
        "#Crear e entorno de simulacion\n",
        "counter = sp.Resource(env, capacity=1)\n",
        "movies = ['Terrifier 3','The Substance','Venom 2',\n",
        "          'Robot Salvaje','Sonrie 2','Guason 2']\n",
        "available = {movie: tickets for movie in movies}\n",
        "sold_out = {movie: env.event() for movie in movies}\n",
        "when_sold_out = {movie: None for movie in movies}\n",
        "num_renegers = {movie: 0 for movie in movies}\n",
        "theater = Theater(counter, movies, available, sold_out, when_sold_out,\n",
        "                  num_renegers)"
      ],
      "metadata": {
        "id": "KEc6ucTZjQoO"
      },
      "execution_count": null,
      "outputs": []
    },
    {
      "cell_type": "code",
      "source": [
        "#Comienza simulacion\n",
        "env.process(customer_arrivals(env, theater))\n",
        "env.run(until = sim_time)"
      ],
      "metadata": {
        "id": "Y6rspohDlQJU"
      },
      "execution_count": null,
      "outputs": []
    },
    {
      "cell_type": "code",
      "source": [
        "#Analisis de resultados\n",
        "print('Simulacion de cine, venta de boletos \\n \\n')\n",
        "for movie in movies:\n",
        "    if theater.sold_out[movie]:\n",
        "        print('La funcion \"%s\" se vendio en \"%.1f\" minutos' % (movie, theater.when_sold_out[movie]))\n",
        "        print('Numero de personas que se fueron: %s' % theater.num_renegers[movie])"
      ],
      "metadata": {
        "colab": {
          "base_uri": "https://localhost:8080/"
        },
        "id": "Q2ylhNrtlXou",
        "outputId": "b9607910-db6b-40c2-8ed3-59c98443258f"
      },
      "execution_count": null,
      "outputs": [
        {
          "output_type": "stream",
          "name": "stdout",
          "text": [
            "Simulacion de cinema, venta de boletos \n",
            " \n",
            "\n",
            "La funcion \"Terrifier 3\" se vendio en \"69.0\" minutos\n",
            "Numero de personas que se fueron: 15\n",
            "La funcion \"The Substance\" se vendio en \"76.5\" minutos\n",
            "Numero de personas que se fueron: 11\n",
            "La funcion \"Venom 2\" se vendio en \"86.0\" minutos\n",
            "Numero de personas que se fueron: 10\n",
            "La funcion \"Robot Salvaje\" se vendio en \"89.0\" minutos\n",
            "Numero de personas que se fueron: 11\n",
            "La funcion \"Sonrie 2\" se vendio en \"65.0\" minutos\n",
            "Numero de personas que se fueron: 15\n",
            "La funcion \"Guason 2\" se vendio en \"75.5\" minutos\n",
            "Numero de personas que se fueron: 14\n"
          ]
        }
      ]
    }
  ]
}