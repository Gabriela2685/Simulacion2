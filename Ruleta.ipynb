{
  "nbformat": 4,
  "nbformat_minor": 0,
  "metadata": {
    "colab": {
      "provenance": [],
      "authorship_tag": "ABX9TyMFhvPWQPri4yb5CohZBegr",
      "include_colab_link": true
    },
    "kernelspec": {
      "name": "python3",
      "display_name": "Python 3"
    },
    "language_info": {
      "name": "python"
    }
  },
  "cells": [
    {
      "cell_type": "markdown",
      "metadata": {
        "id": "view-in-github",
        "colab_type": "text"
      },
      "source": [
        "<a href=\"https://colab.research.google.com/github/Gabriela2685/Simulacion2/blob/main/Ruleta.ipynb\" target=\"_parent\"><img src=\"https://colab.research.google.com/assets/colab-badge.svg\" alt=\"Open In Colab\"/></a>"
      ]
    },
    {
      "cell_type": "code",
      "source": [
        "import random\n",
        "\n",
        "# Definir la ruleta con los colores\n",
        "colores = ['Naranja', 'Azul', 'Verde', 'Rojo']\n",
        "\n",
        "# Posición inicial en la ruleta (puede ser aleatoria)\n",
        "posicion_actual = random.randint(0, len(colores) - 1)\n",
        "print(f\"Posición inicial: {colores[posicion_actual]}\")\n",
        "\n",
        "# Simulación de tirar dos monedas (valores 0, 1 o 2)\n",
        "moneda_1 = random.randint(0, 2)\n",
        "moneda_2 = random.randint(0, 2)\n",
        "resultado_moneda = moneda_1 + moneda_2\n",
        "\n",
        "print(f\"Moneda 1: {moneda_1}, Moneda 2: {moneda_2}\")\n",
        "print(f\"Resultado monedas: {resultado_moneda}\")\n",
        "\n",
        "# Determinar la nueva posición\n",
        "nueva_posicion = (posicion_actual + resultado_moneda) % len(colores)\n",
        "print(f\"Te mueves a: {colores[nueva_posicion]}\")\n",
        "print(nueva_posicion)"
      ],
      "metadata": {
        "colab": {
          "base_uri": "https://localhost:8080/"
        },
        "id": "dU33TAasJURC",
        "outputId": "6dbd56e2-6935-4448-c973-4020e4ee4cfc"
      },
      "execution_count": 5,
      "outputs": [
        {
          "output_type": "stream",
          "name": "stdout",
          "text": [
            "Posición inicial: Verde\n",
            "Moneda 1: 1, Moneda 2: 0\n",
            "Resultado monedas: 1\n",
            "Te mueves a: Rojo\n",
            "3\n"
          ]
        }
      ]
    },
    {
      "cell_type": "code",
      "source": [
        "def ruleta(n):\n",
        "  orange = 0\n",
        "  red = 0\n",
        "  blue = 0\n",
        "  green = 0\n",
        "  colores = ['Naranja', 'Azul', 'Verde', 'Rojo']\n",
        "\n",
        "  for i in range(n):\n",
        "    posicion_actual = random.randint(0, len(colores) - 1)\n",
        "    moneda_1 = random.randint(0, 2)\n",
        "    moneda_2 = random.randint(0, 2)\n",
        "    resultado_moneda = moneda_1 + moneda_2\n",
        "    nueva_posicion = (posicion_actual + resultado_moneda) % len(colores)\n",
        "    if nueva_posicion==0:\n",
        "      orange += 1\n",
        "    elif nueva_posicion==1:\n",
        "      blue += 1\n",
        "    elif nueva_posicion==2:\n",
        "      green += 1\n",
        "    else:\n",
        "      red += 1\n",
        "\n",
        "    prob_orange = (orange / n)\n",
        "    prob_red = (red / n)\n",
        "    prob_blue = (blue / n)\n",
        "    prob_green = (green / n)\n",
        "\n",
        "  return (orange, red, blue, green), (prob_orange, prob_red, prob_blue, prob_green),n\n",
        "\n",
        "conteos, probabilidades, n = ruleta(10000)\n",
        "print('Lanzamientos:', n)\n",
        "print(f\"Conteos: Naranja: {conteos[0]}, Rojo: {conteos[1]}, Azul: {conteos[2]}, Verde: {conteos[3]}\")\n",
        "print(f\"Probabilidades: Naranja: {probabilidades[0]:.2f}, Rojo: {probabilidades[1]:.2f}, Azul: {probabilidades[2]:.2f}, Verde: {probabilidades[3]:.2f}\")"
      ],
      "metadata": {
        "colab": {
          "base_uri": "https://localhost:8080/"
        },
        "id": "n4etaZYvNzY5",
        "outputId": "8b988bd3-c10a-45e0-b0ee-cdbc80695f4d"
      },
      "execution_count": 13,
      "outputs": [
        {
          "output_type": "stream",
          "name": "stdout",
          "text": [
            "Lanzamientos: 10000\n",
            "Conteos: Naranja: 2508, Rojo: 2620, Azul: 2422, Verde: 2450\n",
            "Probabilidades: Naranja: 0.25, Rojo: 0.26, Azul: 0.24, Verde: 0.24\n"
          ]
        }
      ]
    }
  ]
}