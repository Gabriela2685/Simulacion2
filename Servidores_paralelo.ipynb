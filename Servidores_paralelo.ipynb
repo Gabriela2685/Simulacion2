{
  "nbformat": 4,
  "nbformat_minor": 0,
  "metadata": {
    "colab": {
      "provenance": [],
      "authorship_tag": "ABX9TyO24NHurA7iRiKaEeXeIQPM",
      "include_colab_link": true
    },
    "kernelspec": {
      "name": "python3",
      "display_name": "Python 3"
    },
    "language_info": {
      "name": "python"
    }
  },
  "cells": [
    {
      "cell_type": "markdown",
      "metadata": {
        "id": "view-in-github",
        "colab_type": "text"
      },
      "source": [
        "<a href=\"https://colab.research.google.com/github/Gabriela2685/Simulacion2/blob/main/Servidores_paralelo.ipynb\" target=\"_parent\"><img src=\"https://colab.research.google.com/assets/colab-badge.svg\" alt=\"Open In Colab\"/></a>"
      ]
    },
    {
      "cell_type": "markdown",
      "source": [
        "#Una cola con dos servidores en paralelo"
      ],
      "metadata": {
        "id": "3crKiVYuvIfh"
      }
    },
    {
      "cell_type": "code",
      "source": [
        "import random\n",
        "import math"
      ],
      "metadata": {
        "id": "SAnqy7-qsbyY"
      },
      "execution_count": 4,
      "outputs": []
    },
    {
      "cell_type": "code",
      "source": [
        "# Inicialización de parámetros\n",
        "t = 0  # Tiempo actual\n",
        "C1 = 0  # Contador de clientes procesados por el servidor 1\n",
        "C2 = 0  # Contador de clientes procesados por el servidor 2\n",
        "N_LL = 0  # Número de llegadas\n",
        "SS = (0, )  # Estado del sistema, inicialmente vacío\n",
        "LL = []  # Lista de tiempos de llegada\n",
        "S = []  # Lista de tiempos de servicio\n",
        "t_LL = random.expovariate(1)  # Tiempo de la próxima llegada\n",
        "t1 = math.inf  # Tiempo de servicio del servidor 1\n",
        "t2 = math.inf  # Tiempo de servicio del servidor 2\n",
        "\n",
        "# Función para generar tiempos aleatorios (llegadas y servicios)\n",
        "def generar_Ti():\n",
        "    return random.expovariate(1)\n",
        "\n",
        "def generar_Yi():\n",
        "    return random.expovariate(1)\n",
        "\n",
        "# Comenzar la simulación\n",
        "while t < 20:  # Ajusta el límite de tiempo según sea necesario\n",
        "    if (t_LL <= t1) and (t_LL <= t2) and (len(SS) == 1):  # Caso 1: Llegada de cliente\n",
        "        t = t_LL\n",
        "        N_LL += 1\n",
        "        LL.append(t)  # Registrar el tiempo de llegada\n",
        "        print(f\"Llegada del cliente {N_LL} en t={t}\")\n",
        "\n",
        "        # Generar siguiente llegada\n",
        "        t_LL = t + generar_Ti()\n",
        "\n",
        "        if SS == (0,):  # Si el sistema está vacío\n",
        "            SS = (1, N_LL, 0)\n",
        "            Y1 = generar_Yi()\n",
        "            t1 = t + Y1\n",
        "        elif SS == (1, 0, 0):  # Si hay un cliente en el servidor 1 pero no en el 2\n",
        "            SS = (2, N_LL, 0)\n",
        "            Y2 = generar_Yi()\n",
        "            t2 = t + Y2\n",
        "\n",
        "    elif (t1 <= t_LL) and (t1 <= t2):  # Caso 2: El servidor 1 termina\n",
        "        t = t1\n",
        "        C1 += 1\n",
        "        print(f\"Servidor 1 terminó con el cliente en t={t}\")\n",
        "\n",
        "        if len(SS) == 3:  # Si hay más de un cliente en el sistema\n",
        "            SS = (1, 0, SS[2])  # Mueve el cliente al servidor 1\n",
        "            Y1 = generar_Yi()\n",
        "            t1 = t + Y1\n",
        "        else:  # Si no hay más clientes\n",
        "            SS = (0,)\n",
        "            t1 = math.inf\n",
        "\n",
        "    elif (t2 <= t_LL) and (t2 <= t1):  # Caso 3: El servidor 2 termina\n",
        "        t = t2\n",
        "        C2 += 1\n",
        "        print(f\"Servidor 2 terminó con el cliente en t={t}\")\n",
        "\n",
        "        if len(SS) > 2:  # Si hay más clientes en la cola\n",
        "            SS = (1, 0, SS[2])  # Mueve el cliente al servidor 2\n",
        "            Y2 = generar_Yi()\n",
        "            t2 = t + Y2\n",
        "        else:  # Si no hay más clientes\n",
        "            SS = (0,)\n",
        "            t2 = math.inf\n",
        "\n",
        "# Resultados\n",
        "print(f\"Total de clientes atendidos por el servidor 1: {C1}\")\n",
        "print(f\"Total de clientes atendidos por el servidor 2: {C2}\")"
      ],
      "metadata": {
        "colab": {
          "base_uri": "https://localhost:8080/",
          "height": 228
        },
        "id": "5ulvI06ouJB3",
        "outputId": "c484b3ca-4f24-4fe8-ca06-7e04a71c40bc"
      },
      "execution_count": 6,
      "outputs": [
        {
          "output_type": "stream",
          "name": "stdout",
          "text": [
            "Llegada del cliente 1 en t=0.749205339223634\n"
          ]
        },
        {
          "output_type": "error",
          "ename": "KeyboardInterrupt",
          "evalue": "",
          "traceback": [
            "\u001b[0;31m---------------------------------------------------------------------------\u001b[0m",
            "\u001b[0;31mKeyboardInterrupt\u001b[0m                         Traceback (most recent call last)",
            "\u001b[0;32m<ipython-input-6-0a88b93b80c2>\u001b[0m in \u001b[0;36m<cell line: 21>\u001b[0;34m()\u001b[0m\n\u001b[1;32m     20\u001b[0m \u001b[0;31m# Comenzar la simulación\u001b[0m\u001b[0;34m\u001b[0m\u001b[0;34m\u001b[0m\u001b[0m\n\u001b[1;32m     21\u001b[0m \u001b[0;32mwhile\u001b[0m \u001b[0mt\u001b[0m \u001b[0;34m<\u001b[0m \u001b[0;36m20\u001b[0m\u001b[0;34m:\u001b[0m  \u001b[0;31m# Ajusta el límite de tiempo según sea necesario\u001b[0m\u001b[0;34m\u001b[0m\u001b[0;34m\u001b[0m\u001b[0m\n\u001b[0;32m---> 22\u001b[0;31m     \u001b[0;32mif\u001b[0m \u001b[0;34m(\u001b[0m\u001b[0mt_LL\u001b[0m \u001b[0;34m<=\u001b[0m \u001b[0mt1\u001b[0m\u001b[0;34m)\u001b[0m \u001b[0;32mand\u001b[0m \u001b[0;34m(\u001b[0m\u001b[0mt_LL\u001b[0m \u001b[0;34m<=\u001b[0m \u001b[0mt2\u001b[0m\u001b[0;34m)\u001b[0m \u001b[0;32mand\u001b[0m \u001b[0;34m(\u001b[0m\u001b[0mlen\u001b[0m\u001b[0;34m(\u001b[0m\u001b[0mSS\u001b[0m\u001b[0;34m)\u001b[0m \u001b[0;34m==\u001b[0m \u001b[0;36m1\u001b[0m\u001b[0;34m)\u001b[0m\u001b[0;34m:\u001b[0m  \u001b[0;31m# Caso 1: Llegada de cliente\u001b[0m\u001b[0;34m\u001b[0m\u001b[0;34m\u001b[0m\u001b[0m\n\u001b[0m\u001b[1;32m     23\u001b[0m         \u001b[0mt\u001b[0m \u001b[0;34m=\u001b[0m \u001b[0mt_LL\u001b[0m\u001b[0;34m\u001b[0m\u001b[0;34m\u001b[0m\u001b[0m\n\u001b[1;32m     24\u001b[0m         \u001b[0mN_LL\u001b[0m \u001b[0;34m+=\u001b[0m \u001b[0;36m1\u001b[0m\u001b[0;34m\u001b[0m\u001b[0;34m\u001b[0m\u001b[0m\n",
            "\u001b[0;31mKeyboardInterrupt\u001b[0m: "
          ]
        }
      ]
    }
  ]
}