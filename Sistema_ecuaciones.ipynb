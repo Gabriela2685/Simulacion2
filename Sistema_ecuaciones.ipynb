{
  "nbformat": 4,
  "nbformat_minor": 0,
  "metadata": {
    "colab": {
      "provenance": [],
      "authorship_tag": "ABX9TyOeUfB0U4MwBL0DZwyvt6E8",
      "include_colab_link": true
    },
    "kernelspec": {
      "name": "python3",
      "display_name": "Python 3"
    },
    "language_info": {
      "name": "python"
    }
  },
  "cells": [
    {
      "cell_type": "markdown",
      "metadata": {
        "id": "view-in-github",
        "colab_type": "text"
      },
      "source": [
        "<a href=\"https://colab.research.google.com/github/Gabriela2685/Simulacion2/blob/main/Sistema_ecuaciones.ipynb\" target=\"_parent\"><img src=\"https://colab.research.google.com/assets/colab-badge.svg\" alt=\"Open In Colab\"/></a>"
      ]
    },
    {
      "cell_type": "code",
      "execution_count": 6,
      "metadata": {
        "colab": {
          "base_uri": "https://localhost:8080/"
        },
        "outputId": "0fc9f9af-14ef-4138-80db-d75f508f97d8",
        "id": "lX3zt6CPjcpN"
      },
      "outputs": [
        {
          "output_type": "stream",
          "name": "stdout",
          "text": [
            "P_0 0.3726\n",
            "P_1 0.3313\n",
            "P_2 0.0957\n",
            "P_3 0.0034\n",
            "P_4 0.1970\n"
          ]
        }
      ],
      "source": [
        "import numpy as np\n",
        "\n",
        "# Definir la matriz de coeficientes A\n",
        "A = np.array([\n",
        "    [0.7, -0.4, -0.25, -0.332, -0.5],\n",
        "    [-0.5, 0.65, -0.25, 0, 0],\n",
        "    [-0.2, 0, 0.75, -0.667, 0],\n",
        "    [0, -0.05, -0.25, 0, 0],\n",
        "    [0, -0.2, -0.25, 0, 0.5],\n",
        "    [1, 1, 1, 1, 1]  # Ecuación de normalización\n",
        "])\n",
        "\n",
        "# Definir el vector de resultados b\n",
        "b = np.array([0, 0, 0, 0, 0, 1])  # La última ecuación es igual a 1\n",
        "\n",
        "# Resolver el sistema Ax = b\n",
        "# Usamos la función lstsq para resolver sistemas sobredeterminados\n",
        "result, residuals, rank, s = np.linalg.lstsq(A, b, rcond=None)\n",
        "\n",
        "# Normalizar el resultado\n",
        "result /= result.sum()\n",
        "\n",
        "for i in range(5):\n",
        "  print(f\"P_{i} {result[i]:.4f}\")"
      ]
    },
    {
      "cell_type": "code",
      "source": [],
      "metadata": {
        "id": "3LS5c2DGjZmb"
      },
      "execution_count": null,
      "outputs": []
    }
  ]
}