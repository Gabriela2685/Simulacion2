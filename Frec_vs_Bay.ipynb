{
  "nbformat": 4,
  "nbformat_minor": 0,
  "metadata": {
    "colab": {
      "provenance": [],
      "authorship_tag": "ABX9TyM3lG8dN7hLqGVwRTWLMGro",
      "include_colab_link": true
    },
    "kernelspec": {
      "name": "python3",
      "display_name": "Python 3"
    },
    "language_info": {
      "name": "python"
    }
  },
  "cells": [
    {
      "cell_type": "markdown",
      "metadata": {
        "id": "view-in-github",
        "colab_type": "text"
      },
      "source": [
        "<a href=\"https://colab.research.google.com/github/Gabriela2685/Simulacion2/blob/main/Frec_vs_Bay.ipynb\" target=\"_parent\"><img src=\"https://colab.research.google.com/assets/colab-badge.svg\" alt=\"Open In Colab\"/></a>"
      ]
    },
    {
      "cell_type": "markdown",
      "source": [
        "#Frecuentistas vs Bayesianos\n",
        "\n",
        "La diferencia entre Frecuentistas y Bayesianos comienza desde como definen la **probabilidad**; los primeros relacionan la probabilidad con la **frecuencia de los eventos** y los segundos, creen que se puede asignar una probabilidad a cualquier evento o afirmación a partir del **grado de certeza** de un evento, incluso si este no se puede repetir muchas veces.\n",
        "\n",
        "El primer ejemplo que propone es el de mediciones de flujo de fotones en que se generan 50 muestras con una media de 1000 y un error conocido:\n"
      ],
      "metadata": {
        "id": "10hpOt1i97ZC"
      }
    },
    {
      "cell_type": "code",
      "source": [
        "import random as rnd\n",
        "import numpy as np"
      ],
      "metadata": {
        "id": "0mufm2WECJ5F"
      },
      "execution_count": 1,
      "outputs": []
    },
    {
      "cell_type": "markdown",
      "source": [
        "Frecuentista: Método de máxima verosimilitud"
      ],
      "metadata": {
        "id": "WKD3Ni0OEHvq"
      }
    },
    {
      "cell_type": "code",
      "source": [
        "np.random.seed(2)\n",
        "e = np.random.normal(30,3,50) # Error\n",
        "F = np.random.normal(1000,e) # Flujo verdadero\n",
        "\n",
        "w = 1./e**2\n",
        "F_hat = np.sum(w*F)/np.sum(w)\n",
        "sigma_ = w.sum()**-0.5\n",
        "\n",
        "print(F_hat)"
      ],
      "metadata": {
        "colab": {
          "base_uri": "https://localhost:8080/"
        },
        "id": "a2ay_bAPCCyi",
        "outputId": "bd9b6040-3708-42f1-8007-5c06b9b11d59"
      },
      "execution_count": 5,
      "outputs": [
        {
          "output_type": "stream",
          "name": "stdout",
          "text": [
            "998.6496963757094\n"
          ]
        }
      ]
    },
    {
      "cell_type": "markdown",
      "source": [
        "Bayesiano: Teorema de Bayes\n"
      ],
      "metadata": {
        "id": "ar4xuMZ3HNhw"
      }
    },
    {
      "cell_type": "markdown",
      "source": [],
      "metadata": {
        "id": "IHhXUEKPDPXC"
      }
    }
  ]
}