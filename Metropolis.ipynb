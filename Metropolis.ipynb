{
  "nbformat": 4,
  "nbformat_minor": 0,
  "metadata": {
    "colab": {
      "provenance": [],
      "authorship_tag": "ABX9TyOImmP+jKYmfIOidA+a476Z",
      "include_colab_link": true
    },
    "kernelspec": {
      "name": "python3",
      "display_name": "Python 3"
    },
    "language_info": {
      "name": "python"
    }
  },
  "cells": [
    {
      "cell_type": "markdown",
      "metadata": {
        "id": "view-in-github",
        "colab_type": "text"
      },
      "source": [
        "<a href=\"https://colab.research.google.com/github/Gabriela2685/Simulacion2/blob/main/Metropolis.ipynb\" target=\"_parent\"><img src=\"https://colab.research.google.com/assets/colab-badge.svg\" alt=\"Open In Colab\"/></a>"
      ]
    },
    {
      "cell_type": "markdown",
      "source": [
        "Simular mediante el algoritmo metropolis la distribucion normal\n",
        "$$\\pi_i P_{ij} = \\pi_j P_{ji}$$\n",
        "\n"
      ],
      "metadata": {
        "id": "zPdH4V85yb-J"
      }
    },
    {
      "cell_type": "code",
      "execution_count": null,
      "metadata": {
        "id": "KeGO6oGIx8jI"
      },
      "outputs": [],
      "source": [
        "import numpy as np\n",
        "import matplotlib.pyplot as plt\n"
      ]
    },
    {
      "cell_type": "code",
      "source": [
        "# Naranja\n",
        "\n",
        "def f(x,mu,std):\n",
        "  return(1/np.sqrt(2*np.pi*std**2))*np.exp(-(x-mu)**2/(2*std**2)) # Funcion de densidad (pdf)"
      ],
      "metadata": {
        "id": "v_u8xz9Fy3tI"
      },
      "execution_count": null,
      "outputs": []
    },
    {
      "cell_type": "code",
      "source": [
        "mu = 0.2\n",
        "sigma = 0.1"
      ],
      "metadata": {
        "id": "_vof8iCL0NyI"
      },
      "execution_count": null,
      "outputs": []
    },
    {
      "cell_type": "code",
      "source": [
        "delta = 0.5"
      ],
      "metadata": {
        "id": "YKfkkrM20k7A"
      },
      "execution_count": null,
      "outputs": []
    },
    {
      "cell_type": "code",
      "source": [
        "# Azul\n",
        "\n",
        "n = 50000  # n tiene que ser muy grande\n",
        "x = np.zeros(n)\n",
        "x[0] = 0\n",
        "acept = 0\n",
        "\n",
        "for i in range(0,n-1):\n",
        "  y = x[i] + np.random.uniform(-delta,delta)\n",
        "  if np.random.rand()<min(1,f(y,mu,sigma)/f(x[i],mu,sigma)):\n",
        "    x[i+1]=y\n",
        "    acept += 1\n",
        "  else:\n",
        "    x[i+1] = x[i]\n",
        "print(\"La aceptacion fue del\", acept/n*100,\"%\")"
      ],
      "metadata": {
        "colab": {
          "base_uri": "https://localhost:8080/"
        },
        "id": "VwiU7utz0m-H",
        "outputId": "abab344c-8fc8-445a-9d02-7355acc70e38"
      },
      "execution_count": null,
      "outputs": [
        {
          "output_type": "stream",
          "name": "stdout",
          "text": [
            "La aceptacion fue del 31.762 %\n"
          ]
        }
      ]
    },
    {
      "cell_type": "code",
      "source": [
        "plt.hist(x,density = True,bins = 30)\n",
        "xs = np.linspace(-1,1,100)\n",
        "plt.plot(xs,f(xs,mu,sigma))"
      ],
      "metadata": {
        "colab": {
          "base_uri": "https://localhost:8080/",
          "height": 447
        },
        "id": "I97Zyoac2Nqn",
        "outputId": "f07c40dd-63ed-4333-89ec-e5417b9e38b2"
      },
      "execution_count": null,
      "outputs": [
        {
          "output_type": "execute_result",
          "data": {
            "text/plain": [
              "[<matplotlib.lines.Line2D at 0x7f851aab5510>]"
            ]
          },
          "metadata": {},
          "execution_count": 12
        },
        {
          "output_type": "display_data",
          "data": {
            "text/plain": [
              "<Figure size 640x480 with 1 Axes>"
            ],
            "image/png": "[encoded data removed]"
          },
          "metadata": {}
        }
      ]
    }
  ]
}