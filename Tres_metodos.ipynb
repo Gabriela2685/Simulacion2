{
  "nbformat": 4,
  "nbformat_minor": 0,
  "metadata": {
    "colab": {
      "provenance": [],
      "include_colab_link": true
    },
    "kernelspec": {
      "name": "python3",
      "display_name": "Python 3"
    },
    "language_info": {
      "name": "python"
    }
  },
  "cells": [
    {
      "cell_type": "markdown",
      "metadata": {
        "id": "view-in-github",
        "colab_type": "text"
      },
      "source": [
        "<a href=\"https://colab.research.google.com/github/Gabriela2685/Simulacion2/blob/main/Tres_metodos.ipynb\" target=\"_parent\"><img src=\"https://colab.research.google.com/assets/colab-badge.svg\" alt=\"Open In Colab\"/></a>"
      ]
    },
    {
      "cell_type": "markdown",
      "source": [
        "# Métodos de Monte Carlo\n",
        "\n",
        "Camparar la eficiencia del:\n",
        "\n",
        "\n",
        "*   Crudo\n",
        "*   Acierto y error\n",
        "*   Muestreo de importancia\n",
        "\n",
        "Con I=$\\int_0^1 cos(\\frac{\\pi}{2}x)dx$\n",
        "\n",
        "Usamos n=1000000"
      ],
      "metadata": {
        "id": "1uwZRjDYMbLV"
      }
    },
    {
      "cell_type": "code",
      "source": [
        "# Importamos librerias\n",
        "import random as rnd\n",
        "import numpy as np\n",
        "import math\n",
        "import time\n",
        "import pandas as pd"
      ],
      "metadata": {
        "id": "ugCErpeVu-1P"
      },
      "execution_count": 86,
      "outputs": []
    },
    {
      "cell_type": "markdown",
      "source": [
        "**Método crudo**"
      ],
      "metadata": {
        "id": "zNPsLdY4KxYg"
      }
    },
    {
      "cell_type": "code",
      "source": [
        "pi = math.pi\n",
        "\n",
        "start_time = time.time()\n",
        "\n",
        "def f(x):\n",
        "    return math.cos((pi * x) / 2)\n",
        "\n",
        "def MC(n, a, b):\n",
        "    C = []\n",
        "    for _ in range(n):\n",
        "        x = rnd.random()  # Num aleatorio en [0, 1]\n",
        "        X_i = a + x * (b - a)  # Ajustamos al intervalo [a, b]\n",
        "        g = f(X_i)  # Evaluamos en la función\n",
        "        C.append(g)\n",
        "    return C\n",
        "\n",
        "# Generar muestras y calcular el promedio y varianza\n",
        "H = MC(100000, 0, 1)\n",
        "estimacion_prom1 = np.mean(H)\n",
        "varianza1 = np.var(H)\n",
        "\n",
        "end_time = time.time()\n",
        "time1 = end_time-start_time\n",
        "\n",
        "e1 = estimacion_prom1 * varianza1\n",
        "\n",
        "print('Estimación:', estimacion_prom1)\n",
        "print('Varianza:', varianza1)\n",
        "print('Tiempo de ejecución (segundos):',time1)"
      ],
      "metadata": {
        "id": "z7Kkrlq8-CF1",
        "outputId": "ca0d770b-0550-46cf-8ac9-28b6f3440b5a",
        "colab": {
          "base_uri": "https://localhost:8080/"
        }
      },
      "execution_count": 87,
      "outputs": [
        {
          "output_type": "stream",
          "name": "stdout",
          "text": [
            "Estimación: 0.6359657559142573\n",
            "Varianza: 0.09490527299558049\n",
            "Tiempo de ejecución (segundos): 0.0728902816772461\n"
          ]
        }
      ]
    },
    {
      "cell_type": "markdown",
      "source": [
        "**Muestreo importancia**"
      ],
      "metadata": {
        "id": "i_E0lYna9w87"
      }
    },
    {
      "cell_type": "code",
      "source": [
        "start_time1 = time.time()\n",
        "\n",
        "def beta(x):\n",
        "  return (3/2)*(1-x**2) # Normalizamos la fdp\n",
        "\n",
        "def beta_acep(N):\n",
        "    C=[] #Matriz vacia donde se almacenran los valores aceptados\n",
        "    for i in range(N):\n",
        "        y=rnd.random() # Variable que sigue la distribucion g(x)\n",
        "        u= np.random.uniform(0, 1) # Variable que sigue una distribucion uniforma\n",
        "        if u<=beta(y)/beta(0):\n",
        "            C.append(y)\n",
        "    return C\n",
        "\n",
        "def evaluados(N): # Funcion para obtener sustituir valores aceptados de la funcion\n",
        "  lista = []\n",
        "  C = beta_acep(N)  # Se crea la lista con los valores aceptados\n",
        "  for valor in C:   # Se evalua cada valor de la lista en f(x)\n",
        "    lista.append(f(valor))   # Se agregan\n",
        "\n",
        "  return lista\n",
        "\n",
        "# Generar muestras y calcular el promedio y varianza\n",
        "results = evaluados(100000)\n",
        "estimacion_prom2 = np.mean(results)\n",
        "varianza2 = np.var(results)\n",
        "\n",
        "end_time1 = time.time()\n",
        "time2 = end_time1-start_time1\n",
        "\n",
        "e2 = estimacion_prom2 * varianza2\n",
        "\n",
        "print('Estimacion:',estimacion_prom2)\n",
        "print('Varianza:', varianza2)\n",
        "print('Tiempo de ejecucion (segundos):',time2)"
      ],
      "metadata": {
        "id": "V7xaR25WtGt5",
        "outputId": "28ae8007-5b98-4df0-b11d-3d04b3eea599",
        "colab": {
          "base_uri": "https://localhost:8080/"
        }
      },
      "execution_count": 88,
      "outputs": [
        {
          "output_type": "stream",
          "name": "stdout",
          "text": [
            "Estimacion: 0.7741760458832201\n",
            "Varianza: 0.05313103990300391\n",
            "Tiempo de ejecucion (segundos): 0.3788168430328369\n"
          ]
        }
      ]
    },
    {
      "cell_type": "markdown",
      "source": [
        "**Acierto y error**"
      ],
      "metadata": {
        "id": "OdQAj3wzS8nB"
      }
    },
    {
      "cell_type": "code",
      "source": [
        "start_time2 = time.time()\n",
        "\n",
        "M = 1       # Valor máximo de f(x)\n",
        "def acierto_y_error(n):\n",
        "    aceptados = []\n",
        "    for _ in range(n):\n",
        "        x = np.random.uniform(0, 1)  # Muestreo de g(x), que es uniforme en [0,1]\n",
        "        u = np.random.uniform(0, 1)  # Muestreo de la uniforme [0,1]\n",
        "        if u <= f(x) / M:\n",
        "            aceptados.append(f(x))\n",
        "\n",
        "    return aceptados\n",
        "\n",
        "# Generar muestras y calcular el promedio y varianza\n",
        "J = acierto_y_error(100000)\n",
        "estimacion_prom3 = np.mean(J)\n",
        "varianza3 = np.var(J)\n",
        "\n",
        "end_time2 = time.time()\n",
        "time3 = end_time2-start_time2\n",
        "\n",
        "e3 = estimacion_prom3 * varianza3\n",
        "\n",
        "print('Estimacion:',estimacion_prom3)\n",
        "print('Varianza:', varianza3)\n",
        "print('Tiempo de ejecucion (segundos):',time3)"
      ],
      "metadata": {
        "colab": {
          "base_uri": "https://localhost:8080/"
        },
        "id": "1SDkVVm3QIoL",
        "outputId": "f89966be-0e6f-4de3-be0e-72079873eef6"
      },
      "execution_count": 89,
      "outputs": [
        {
          "output_type": "stream",
          "name": "stdout",
          "text": [
            "Estimacion: 0.7847285502404798\n",
            "Varianza: 0.049831320747974285\n",
            "Tiempo de ejecucion (segundos): 1.0257141590118408\n"
          ]
        }
      ]
    },
    {
      "cell_type": "markdown",
      "source": [
        "**Tabla**"
      ],
      "metadata": {
        "id": "IRwh_mz-Pb8g"
      }
    },
    {
      "cell_type": "code",
      "source": [
        "# Datos para la tabla\n",
        "headers = ['Método', 'Media', 'Tiempo', 'Varianza', 'T*Var']\n",
        "rows = [\n",
        "    ['Crudo', f\"{estimacion_prom1:.6f}\", f\"{time1:.6f}\", f\"{varianza1:.6f}\", f\"{e1:.6f}\"],\n",
        "    ['Importancia', f\"{estimacion_prom2:.6f}\", f\"{time2:.6f}\", f\"{varianza2:.6f}\", f\"{e2:.6f}\"],\n",
        "    ['Act_Error', f\"{estimacion_prom3:.6f}\", f\"{time3:.6f}\", f\"{varianza3:.6f}\", f\"{e3:.6f}\"]\n",
        "]\n",
        "\n",
        "# Imprimir la tabla\n",
        "print('Eficiencia de los metodos')\n",
        "print(f\"{headers[0]:<15} {headers[1]:<15} {headers[2]:<15} {headers[3]:<15}  {headers[4]:<15}\")\n",
        "print(\"-\" * 75)\n",
        "for row in rows:\n",
        "    print(f\"{row[0]:<15} {row[1]:<15} {row[2]:<15} {row[3]:<15} {row[4]:<15}\")\n"
      ],
      "metadata": {
        "colab": {
          "base_uri": "https://localhost:8080/"
        },
        "id": "ohCN6IPdFtZx",
        "outputId": "9656de06-ae31-4dc3-ce35-f6a47d10651a"
      },
      "execution_count": 91,
      "outputs": [
        {
          "output_type": "stream",
          "name": "stdout",
          "text": [
            "Eficiencia entre Crudo y muestreo importancia\n",
            "Método          Media           Tiempo          Varianza         T*Var          \n",
            "---------------------------------------------------------------------------\n",
            "Crudo           0.635966        0.072890        0.094905        0.060357       \n",
            "Importancia     0.774176        0.378817        0.053131        0.041133       \n",
            "Act_Error       0.784729        1.025714        0.049831        0.039104       \n"
          ]
        }
      ]
    }
  ]
}