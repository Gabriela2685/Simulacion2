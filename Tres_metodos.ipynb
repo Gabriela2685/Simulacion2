{
  "nbformat": 4,
  "nbformat_minor": 0,
  "metadata": {
    "colab": {
      "provenance": [],
      "include_colab_link": true
    },
    "kernelspec": {
      "name": "python3",
      "display_name": "Python 3"
    },
    "language_info": {
      "name": "python"
    }
  },
  "cells": [
    {
      "cell_type": "markdown",
      "metadata": {
        "id": "view-in-github",
        "colab_type": "text"
      },
      "source": [
        "<a href=\"https://colab.research.google.com/github/Gabriela2685/Simulacion2/blob/main/Tres_metodos.ipynb\" target=\"_parent\"><img src=\"https://colab.research.google.com/assets/colab-badge.svg\" alt=\"Open In Colab\"/></a>"
      ]
    },
    {
      "cell_type": "markdown",
      "source": [
        "# Métodos de Monte Carlo\n",
        "\n",
        "Camparar la eficiencia del:\n",
        "\n",
        "\n",
        "*   Crudo\n",
        "*   Acierto y error\n",
        "*   Muestreo de importancia\n",
        "\n",
        "Con I=$\\int_0^1 cos(\\frac{\\pi}{2}x)dx$\n",
        "\n"
      ],
      "metadata": {
        "id": "1uwZRjDYMbLV"
      }
    },
    {
      "cell_type": "code",
      "source": [
        "# Importamos librerias\n",
        "import random as rnd\n",
        "import numpy as np\n",
        "import matplotlib.pyplot as plt\n",
        "import math\n",
        "import time\n",
        "import pandas as pd"
      ],
      "metadata": {
        "id": "ugCErpeVu-1P"
      },
      "execution_count": null,
      "outputs": []
    },
    {
      "cell_type": "markdown",
      "source": [
        "Método crudo"
      ],
      "metadata": {
        "id": "zNPsLdY4KxYg"
      }
    },
    {
      "cell_type": "code",
      "source": [
        "pi = math.pi\n",
        "\n",
        "start_time = time.time()\n",
        "\n",
        "def f(x):\n",
        "    return math.cos((pi * x) / 2)\n",
        "\n",
        "def MC(n, a, b):\n",
        "    C = []\n",
        "    for _ in range(n):\n",
        "        x = rnd.random()  # Num aleatorio en [0, 1]\n",
        "        X_i = a + x * (b - a)  # Ajustamos al intervalo [a, b]\n",
        "        g = f(X_i)  # Evaluamos en la función\n",
        "        C.append(g)\n",
        "    return C\n",
        "\n",
        "# Generar muestras y calcular el promedio\n",
        "H = MC(100000, 0, 1)\n",
        "estimacion_promedio = np.mean(H)\n",
        "varianza1 = np.var(H)\n",
        "\n",
        "end_time = time.time()\n",
        "time1 = end_time-start_time\n",
        "\n",
        "e1 = estimacion_promedio*varianza1\n",
        "\n",
        "print('Estimación:', estimacion_promedio)\n",
        "print('Varianza:', varianza1)\n",
        "print('Tiempo de ejecución (segundos):',time1)"
      ],
      "metadata": {
        "id": "z7Kkrlq8-CF1",
        "outputId": "7d6a66d1-337a-471b-a991-2788a27bf00b",
        "colab": {
          "base_uri": "https://localhost:8080/"
        }
      },
      "execution_count": 77,
      "outputs": [
        {
          "output_type": "stream",
          "name": "stdout",
          "text": [
            "Estimación: 0.6366468579676283\n",
            "Varianza: 0.09490362070617749\n",
            "Tiempo de ejecución (segundos): 0.06897807121276855\n"
          ]
        }
      ]
    },
    {
      "cell_type": "markdown",
      "source": [
        "Muestreo importancia"
      ],
      "metadata": {
        "id": "i_E0lYna9w87"
      }
    },
    {
      "cell_type": "code",
      "source": [
        "start_time1 = time.time()\n",
        "\n",
        "def beta(x):\n",
        "  return (3/2)*(1-x**2) # Normalizamos la fdp\n",
        "\n",
        "def beta_acep(N):\n",
        "    C=[] #Matriz vacia donde se almacenran los valores aceptados\n",
        "    for i in range(N):\n",
        "        y=rnd.random() # Variable que sigue la distribucion g(x)\n",
        "        u= np.random.uniform(0, 1) # Variable que sigue una distribucion uniforma\n",
        "        if u<=beta(y)/beta(0):\n",
        "            C.append(y)\n",
        "    return C\n",
        "\n",
        "def evaluados(N): # Funcion para obtener sustituir valores aceptados de la funcion\n",
        "  lista = []\n",
        "  C = beta_acep(N)  # Se crea la lista con los valores aceptados\n",
        "  for valor in C:   # Se evalua cada valor de la lista en f(x)\n",
        "    lista.append(f(valor))   # Se agregan\n",
        "\n",
        "  return lista\n",
        "\n",
        "results = evaluados(100000)\n",
        "estimacion_prom = np.mean(results)\n",
        "varianza2 = np.var(results)\n",
        "\n",
        "end_time1 = time.time()\n",
        "time2 = end_time1-start_time1\n",
        "\n",
        "e2 = estimacion_prom*varianza2\n",
        "\n",
        "print('Estimacion:',estimacion_prom)\n",
        "print('Varianza:', varianza2)\n",
        "print('Tiempo de ejecucion (segundos):',time2)"
      ],
      "metadata": {
        "id": "V7xaR25WtGt5",
        "outputId": "8bd1517e-5d2a-445e-966b-802c075e3780",
        "colab": {
          "base_uri": "https://localhost:8080/"
        }
      },
      "execution_count": 78,
      "outputs": [
        {
          "output_type": "stream",
          "name": "stdout",
          "text": [
            "Estimacion: 0.7740992494371236\n",
            "Varianza: 0.0524861577940515\n",
            "Tiempo de ejecucion (segundos): 0.3585786819458008\n"
          ]
        }
      ]
    },
    {
      "cell_type": "code",
      "source": [
        "# Datos para la tabla\n",
        "headers = ['Método', 'Media', 'Tiempo', 'Varianza', 'T*Var']\n",
        "rows = [\n",
        "    ['Crudo', f\"{estimacion_promedio:.6f}\", f\"{time1:.6f}\", f\"{varianza1:.6f}\", f\"{e1:.6f}\"],\n",
        "    ['Importancia', f\"{estimacion_prom:.6f}\", f\"{time2:.6f}\", f\"{varianza2:.6f}\", f\"{e2:.6f}\"],\n",
        "]\n",
        "\n",
        "# Imprimir la tabla\n",
        "print('Eficiencia entre Crudo y muestreo importancia')\n",
        "print(f\"{headers[0]:<15} {headers[1]:<15} {headers[2]:<15} {headers[3]:<15}  {headers[4]:<15}\")\n",
        "print(\"-\" * 75)\n",
        "for row in rows:\n",
        "    print(f\"{row[0]:<15} {row[1]:<15} {row[2]:<15} {row[3]:<15} {row[4]:<15}\")\n"
      ],
      "metadata": {
        "colab": {
          "base_uri": "https://localhost:8080/"
        },
        "id": "ohCN6IPdFtZx",
        "outputId": "8daba704-3317-4178-cf95-cfe5b24dae00"
      },
      "execution_count": 82,
      "outputs": [
        {
          "output_type": "stream",
          "name": "stdout",
          "text": [
            "Eficiencia entre Crudo y muestreo importancia\n",
            "Método          Media           Tiempo          Varianza         T*Var          \n",
            "---------------------------------------------------------------------------\n",
            "Crudo           0.636647        0.068978        0.094904        0.060420       \n",
            "Importancia     0.774099        0.358579        0.052486        0.040629       \n"
          ]
        }
      ]
    }
  ]
}