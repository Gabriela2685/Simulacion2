{
  "nbformat": 4,
  "nbformat_minor": 0,
  "metadata": {
    "colab": {
      "provenance": [],
      "authorship_tag": "ABX9TyMF5OMfLTqSV1RfjulcZFvf",
      "include_colab_link": true
    },
    "kernelspec": {
      "name": "python3",
      "display_name": "Python 3"
    },
    "language_info": {
      "name": "python"
    }
  },
  "cells": [
    {
      "cell_type": "markdown",
      "metadata": {
        "id": "view-in-github",
        "colab_type": "text"
      },
      "source": [
        "<a href=\"https://colab.research.google.com/github/Gabriela2685/Simulacion2/blob/main/Servidores_serie.ipynb\" target=\"_parent\"><img src=\"https://colab.research.google.com/assets/colab-badge.svg\" alt=\"Open In Colab\"/></a>"
      ]
    },
    {
      "cell_type": "markdown",
      "source": [
        "#Una cola con dos servdores en serie"
      ],
      "metadata": {
        "id": "Ui2a4Rplr9QW"
      }
    },
    {
      "cell_type": "code",
      "source": [
        "import math\n",
        "import random"
      ],
      "metadata": {
        "id": "pisnHMwXmskv"
      },
      "execution_count": 1,
      "outputs": []
    },
    {
      "cell_type": "code",
      "execution_count": 2,
      "metadata": {
        "colab": {
          "base_uri": "https://localhost:8080/"
        },
        "id": "XvR44wGgmqkt",
        "outputId": "80cf38e2-6c35-4d33-e1a0-26703743022e"
      },
      "outputs": [
        {
          "output_type": "stream",
          "name": "stdout",
          "text": [
            "Número total de llegadas: 14\n",
            "Número total de salidas: 10\n"
          ]
        }
      ],
      "source": [
        "# Inicializar variables\n",
        "t = 0\n",
        "n1 = 0  # Clientes en el servidor 1\n",
        "n2 = 0  # Clientes en el servidor 2\n",
        "NLL = 0  # Número de llegadas\n",
        "NS = 0  # Número de salidas\n",
        "\n",
        "# Funciones para generar tiempos de llegada y de servicio\n",
        "def generar_T0():\n",
        "    return random.expovariate(1)  # Ejemplo: distribución exponencial con tasa 1\n",
        "\n",
        "def generar_Y():\n",
        "    return random.expovariate(1)  # Ejemplo: distribución exponencial con tasa 1 para servicio\n",
        "\n",
        "# Inicialización\n",
        "tLL = generar_T0()  # Tiempo de la próxima llegada\n",
        "t1 = math.inf  # Tiempo de finalización del servicio en el servidor 1\n",
        "t2 = math.inf  # Tiempo de finalización del servicio en el servidor 2\n",
        "\n",
        "# Repetir la simulación\n",
        "while True:\n",
        "    if tLL <= t1 and tLL <= t2:\n",
        "        # Caso 1: una llegada\n",
        "        t = tLL\n",
        "        NLL += 1\n",
        "        n1 += 1\n",
        "        tLL = generar_T0() + t  # Generar el próximo tiempo de llegada\n",
        "\n",
        "        if n1 == 1:\n",
        "            Y = generar_Y()\n",
        "            t1 = t + Y\n",
        "\n",
        "    elif t1 <= tLL and t1 <= t2:\n",
        "        # Caso 2: movimiento del servidor 1 al servidor 2\n",
        "        t = t1\n",
        "        n1 -= 1\n",
        "        n2 += 1\n",
        "        if n1 > 0:\n",
        "            Y1 = generar_Y()\n",
        "            t1 = t + Y1\n",
        "        else:\n",
        "            t1 = math.inf\n",
        "\n",
        "        if n2 == 1:\n",
        "            Y2 = generar_Y()\n",
        "            t2 = t + Y2\n",
        "\n",
        "    elif t2 <= tLL and t2 <= t1:\n",
        "        # Caso 3: salida del sistema\n",
        "        t = t2\n",
        "        NS += 1\n",
        "        n2 -= 1\n",
        "        if n2 > 0:\n",
        "            Y2 = generar_Y()\n",
        "            t2 = t + Y2\n",
        "        else:\n",
        "            t2 = math.inf\n",
        "\n",
        "    # Condición de finalización (esto depende de cómo desees terminar la simulación)\n",
        "    if NS >= 10:  # Ejemplo: detener después de 10 salidas\n",
        "        break\n",
        "\n",
        "# Resultado final\n",
        "print(f\"Número total de llegadas: {NLL}\")\n",
        "print(f\"Número total de salidas: {NS}\")"
      ]
    }
  ]
}