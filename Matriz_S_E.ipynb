{
  "nbformat": 4,
  "nbformat_minor": 0,
  "metadata": {
    "colab": {
      "provenance": [],
      "include_colab_link": true
    },
    "kernelspec": {
      "name": "python3",
      "display_name": "Python 3"
    },
    "language_info": {
      "name": "python"
    }
  },
  "cells": [
    {
      "cell_type": "markdown",
      "metadata": {
        "id": "view-in-github",
        "colab_type": "text"
      },
      "source": [
        "<a href=\"https://colab.research.google.com/github/Gabriela2685/Simulacion2/blob/main/Matriz_S_E.ipynb\" target=\"_parent\"><img src=\"https://colab.research.google.com/assets/colab-badge.svg\" alt=\"Open In Colab\"/></a>"
      ]
    },
    {
      "cell_type": "code",
      "execution_count": 11,
      "metadata": {
        "colab": {
          "base_uri": "https://localhost:8080/"
        },
        "outputId": "8740776d-3110-45cc-a0df-32714df565c5",
        "id": "np-pjOSIfVCP"
      },
      "outputs": [
        {
          "output_type": "stream",
          "name": "stdout",
          "text": [
            "P_1: 0.0678\n",
            "P_2: 0.0673\n",
            "P_3: 0.0576\n",
            "P_4: 0.0772\n",
            "P_5: 0.0659\n",
            "P_6: 0.0641\n",
            "P_7: 0.0667\n",
            "P_8: 0.0626\n",
            "P_9: 0.0569\n",
            "P_10: 0.0613\n",
            "P_11: 0.0560\n",
            "P_12: 0.0486\n",
            "P_13: 0.0788\n",
            "P_14: 0.0332\n",
            "P_15: 0.0197\n",
            "P_16: 0.0253\n",
            "P_17: 0.0629\n",
            "P_18: 0.0101\n",
            "P_19: 0.0181\n",
            "Valor esperado: 8.472902485240478\n"
          ]
        }
      ],
      "source": [
        "import numpy as np\n",
        "\n",
        "# Definir la matriz de transición\n",
        "matriz_transicion = np.array([\n",
        "    [0, 1/6, 0, 1/6, 1/6, 1/6, 1/6, 0, 0, 0, 1/6, 0, 0, 0, 0, 0, 0, 0, 0],\n",
        "    [0, 0, 0, 1/6, 1/6, 1/6, 1/6, 1/6, 0, 0, 1/6, 0, 0, 0, 0, 0, 0, 0, 0],\n",
        "    [0, 0, 0, 0, 0, 0, 0, 0, 0, 0, 1, 0, 0, 0, 0, 0, 0, 0, 0],\n",
        "    [0, 0, 0, 0, 1/6, 1/6, 1/6, 1/6, 1/6, 1/6, 0, 0, 0, 0, 0, 0, 0, 0, 0],\n",
        "    [0, 0, 0, 0, 0, 1/6, 1/6, 1/6, 1/6, 1/6, 1/6, 0, 0, 0, 0, 0, 0, 0, 0],\n",
        "    [0, 0, 0, 0, 0, 0, 1/6, 1/6, 1/6, 1/6, 1/6, 1/6, 0, 0, 0, 0, 0, 0, 0],\n",
        "    [0, 0, 0, 1/6, 0, 0, 0, 1/6, 1/6, 1/6, 1/6, 1/6, 0, 0, 0, 0, 0, 0, 0],\n",
        "    [0, 0, 0, 1/6, 0, 0, 0, 0, 1/6, 1/6, 1/6, 1/6, 0, 1/6, 0, 0, 0, 0, 0],\n",
        "    [0, 0, 0, 1/6, 0, 0, 0, 0, 0, 1/6, 1/6, 1/6, 0, 1/6, 0, 0, 0, 0, 1/6],\n",
        "    [0, 0, 0, 1/6, 0, 0, 0, 0, 0, 0, 1/6, 1/6, 0, 1/6, 0, 1/6, 0, 0, 1/6],\n",
        "    [0, 0, 0, 1/6, 0, 0, 0, 0, 0, 1/6, 0, 1/6, 0, 1/6, 0, 1/6, 0, 0, 1/6],\n",
        "    [0, 0, 0, 1/6, 0, 0, 0, 0, 0, 1/6, 0, 0, 0, 1/6, 0, 1/6, 0, 1/6, 1/6],\n",
        "    [0, 0, 0, 1, 0, 0, 0, 0, 0, 0, 0, 0, 0, 0, 0, 0, 0, 0, 0],\n",
        "    [0, 0, 0, 0, 0, 0, 0, 0, 0, 1/6, 0, 0, 0, 0, 0, 1/6, 0, 1/6, 1/3],\n",
        "    [0, 0, 0, 0, 0, 0, 0, 0, 0, 0, 0, 0, 0, 0, 0, 0, 0, 0, 1],\n",
        "    [0, 0, 0, 0, 0, 0, 0, 0, 0, 1/6, 0, 0, 0, 0, 0, 0, 0, 1/6, 1/6],\n",
        "    [0, 0, 0, 0, 0, 0, 0, 0, 0, 1, 0, 0, 0, 0, 0, 0, 0, 0, 0],\n",
        "    [0, 0, 0, 0, 0, 0, 0, 0, 0, 0, 0, 0, 0, 0, 0, 0, 0, 0, 1/6],\n",
        "    [0, 0, 0, 0, 0, 0, 0, 0, 0, 0, 0, 0, 0, 0, 0, 0, 0, 0, 0]\n",
        "])\n",
        "\n",
        "# Invertir y ajustar la diagonal\n",
        "matriz_transicion *= -1\n",
        "np.fill_diagonal(matriz_transicion, np.diag(matriz_transicion) + 1)\n",
        "\n",
        "# Añadir una fila de 1s para la ecuación final\n",
        "new_row = np.ones(19)\n",
        "matriz_final = np.vstack([matriz_transicion, new_row])\n",
        "\n",
        "# Vector de resultados\n",
        "b = np.zeros(20)\n",
        "b[-1] = 1  # La última ecuación es igual a 1\n",
        "\n",
        "# Resolver el sistema de ecuaciones\n",
        "result, residuals, rank, s = np.linalg.lstsq(matriz_final, b, rcond=None)\n",
        "\n",
        "# Normalizar el resultado\n",
        "result /= result.sum()\n",
        "\n",
        "# Imprimir probabilidades\n",
        "for i in range(19):\n",
        "    print(f\"P_{i+1}: {result[i]:.4f}\")\n",
        "\n",
        "# Calcular valor esperado\n",
        "valor_esperado = sum((i+1) * result[i] for i in range(19))\n",
        "print(\"Lanzamientos:\", valor_esperado)\n"
      ]
    }
  ]
}