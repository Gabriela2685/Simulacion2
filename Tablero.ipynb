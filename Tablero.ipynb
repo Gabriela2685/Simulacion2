{
  "nbformat": 4,
  "nbformat_minor": 0,
  "metadata": {
    "colab": {
      "provenance": [],
      "authorship_tag": "ABX9TyPYSvsbqvZlwkJtrDqozXwm",
      "include_colab_link": true
    },
    "kernelspec": {
      "name": "python3",
      "display_name": "Python 3"
    },
    "language_info": {
      "name": "python"
    }
  },
  "cells": [
    {
      "cell_type": "markdown",
      "metadata": {
        "id": "view-in-github",
        "colab_type": "text"
      },
      "source": [
        "<a href=\"https://colab.research.google.com/github/Gabriela2685/Simulacion2/blob/main/Tablero.ipynb\" target=\"_parent\"><img src=\"https://colab.research.google.com/assets/colab-badge.svg\" alt=\"Open In Colab\"/></a>"
      ]
    },
    {
      "cell_type": "code",
      "source": [
        "import random as rnd\n",
        "import numpy as np"
      ],
      "metadata": {
        "id": "-Fa1yNUHqApm"
      },
      "execution_count": 31,
      "outputs": []
    },
    {
      "cell_type": "code",
      "source": [
        "# Serpientes y escaleras\n",
        "def lanzar_dado():\n",
        "    return rnd.randint(1, 6)\n",
        "\n",
        "def juego_tablero():\n",
        "    tablero = 0\n",
        "    lanzamientos = 0\n",
        "    serpientes = 0\n",
        "    escaleras = 0\n",
        "    meta = 20\n",
        "\n",
        "    while tablero < meta:\n",
        "        dado = lanzar_dado()\n",
        "        lanzamientos += 1\n",
        "        tablero += dado\n",
        "\n",
        "        # Si se pasa de la meta, ajustamos a la meta\n",
        "        if tablero > meta:\n",
        "            tablero = meta\n",
        "\n",
        "        # Comprobamos si cae en una escalera\n",
        "        if tablero == 3:\n",
        "            tablero += 8\n",
        "            escaleras += 1\n",
        "        elif tablero == 15:\n",
        "            tablero += 4\n",
        "            escaleras += 1\n",
        "\n",
        "        # Comprobamos si cae en una serpiente\n",
        "        elif tablero == 13:\n",
        "            tablero -= 9\n",
        "            serpientes += 1\n",
        "        elif tablero == 17:\n",
        "            tablero -= 7\n",
        "            serpientes += 1\n",
        "\n",
        "    return lanzamientos\n",
        "\n",
        "# Simulacion\n",
        "def experimentos(n):\n",
        "  lista = []\n",
        "  for i in range(n):\n",
        "    C = juego_tablero()\n",
        "    lista.append(C)\n",
        "  return lista\n",
        "\n",
        "H = experimentos(1000)\n",
        "print(f\"Promedio:\", np.mean(H))"
      ],
      "metadata": {
        "colab": {
          "base_uri": "https://localhost:8080/"
        },
        "id": "4EjK7qrGvqje",
        "outputId": "00291613-9dcf-48ec-f1a2-a1827ec09c86"
      },
      "execution_count": 48,
      "outputs": [
        {
          "output_type": "stream",
          "name": "stdout",
          "text": [
            "Promedio: 6.728\n"
          ]
        }
      ]
    }
  ]
}