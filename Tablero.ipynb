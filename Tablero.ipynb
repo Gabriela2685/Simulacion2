{
  "nbformat": 4,
  "nbformat_minor": 0,
  "metadata": {
    "colab": {
      "provenance": [],
      "include_colab_link": true
    },
    "kernelspec": {
      "name": "python3",
      "display_name": "Python 3"
    },
    "language_info": {
      "name": "python"
    }
  },
  "cells": [
    {
      "cell_type": "markdown",
      "metadata": {
        "id": "view-in-github",
        "colab_type": "text"
      },
      "source": [
        "<a href=\"https://colab.research.google.com/github/Gabriela2685/Simulacion2/blob/main/Tablero.ipynb\" target=\"_parent\"><img src=\"https://colab.research.google.com/assets/colab-badge.svg\" alt=\"Open In Colab\"/></a>"
      ]
    },
    {
      "cell_type": "markdown",
      "source": [
        "**Tablero de 20 casillas Serpientes y escaleras**"
      ],
      "metadata": {
        "id": "ivGpv-5olZgI"
      }
    },
    {
      "cell_type": "markdown",
      "source": [
        "**Analíticamente**"
      ],
      "metadata": {
        "id": "RbVfWyuy6DGl"
      }
    },
    {
      "cell_type": "code",
      "source": [
        "import numpy as np\n",
        "\n",
        "# Definir la matriz de transición\n",
        "matriz_transicion = np.array([\n",
        "    [0, 1/6, 0, 1/6, 1/6, 1/6, 1/6, 0, 0, 0, 1/6, 0, 0, 0, 0, 0, 0, 0, 0],\n",
        "    [0, 0, 0, 1/6, 1/6, 1/6, 1/6, 1/6, 0, 0, 1/6, 0, 0, 0, 0, 0, 0, 0, 0],\n",
        "    [0, 0, 0, 0, 0, 0, 0, 0, 0, 0, 1, 0, 0, 0, 0, 0, 0, 0, 0],\n",
        "    [0, 0, 0, 0, 1/6, 1/6, 1/6, 1/6, 1/6, 1/6, 0, 0, 0, 0, 0, 0, 0, 0, 0],\n",
        "    [0, 0, 0, 0, 0, 1/6, 1/6, 1/6, 1/6, 1/6, 1/6, 0, 0, 0, 0, 0, 0, 0, 0],\n",
        "    [0, 0, 0, 0, 0, 0, 1/6, 1/6, 1/6, 1/6, 1/6, 1/6, 0, 0, 0, 0, 0, 0, 0],\n",
        "    [0, 0, 0, 1/6, 0, 0, 0, 1/6, 1/6, 1/6, 1/6, 1/6, 0, 0, 0, 0, 0, 0, 0],\n",
        "    [0, 0, 0, 1/6, 0, 0, 0, 0, 1/6, 1/6, 1/6, 1/6, 0, 1/6, 0, 0, 0, 0, 0],\n",
        "    [0, 0, 0, 1/6, 0, 0, 0, 0, 0, 1/6, 1/6, 1/6, 0, 1/6, 0, 0, 0, 0, 1/6],\n",
        "    [0, 0, 0, 1/6, 0, 0, 0, 0, 0, 0, 1/6, 1/6, 0, 1/6, 0, 1/6, 0, 0, 1/6],\n",
        "    [0, 0, 0, 1/6, 0, 0, 0, 0, 0, 1/6, 0, 1/6, 0, 1/6, 0, 1/6, 0, 0, 1/6],\n",
        "    [0, 0, 0, 1/6, 0, 0, 0, 0, 0, 1/6, 0, 0, 0, 1/6, 0, 1/6, 0, 1/6, 1/6],\n",
        "    [0, 0, 0, 1, 0, 0, 0, 0, 0, 0, 0, 0, 0, 0, 0, 0, 0, 0, 0],\n",
        "    [0, 0, 0, 0, 0, 0, 0, 0, 0, 1/6, 0, 0, 0, 0, 0, 1/6, 0, 1/6, 1/3],\n",
        "    [0, 0, 0, 0, 0, 0, 0, 0, 0, 0, 0, 0, 0, 0, 0, 0, 0, 0, 1],\n",
        "    [0, 0, 0, 0, 0, 0, 0, 0, 0, 1/6, 0, 0, 0, 0, 0, 0, 0, 1/6, 1/6],\n",
        "    [0, 0, 0, 0, 0, 0, 0, 0, 0, 1, 0, 0, 0, 0, 0, 0, 0, 0, 0],\n",
        "    [0, 0, 0, 0, 0, 0, 0, 0, 0, 0, 0, 0, 0, 0, 0, 0, 0, 0, 1/6],\n",
        "    [0, 0, 0, 0, 0, 0, 0, 0, 0, 0, 0, 0, 0, 0, 0, 0, 0, 0, 0]\n",
        "])\n",
        "\n",
        "# Invertir y ajustar la diagonal\n",
        "matriz_transicion *= -1\n",
        "np.fill_diagonal(matriz_transicion, np.diag(matriz_transicion) + 1)\n",
        "\n",
        "# Añadir una fila de 1s para la ecuación final\n",
        "new_row = np.ones(19)\n",
        "matriz_final = np.vstack([matriz_transicion, new_row])\n",
        "\n",
        "# Vector de resultados\n",
        "b = np.zeros(20)\n",
        "b[-1] = 1  # La última ecuación es igual a 1\n",
        "\n",
        "# Resolver el sistema de ecuaciones\n",
        "result, residuals, rank, s = np.linalg.lstsq(matriz_final, b, rcond=None)\n",
        "\n",
        "# Normalizar el resultado\n",
        "result /= result.sum()\n",
        "\n",
        "# Imprimir probabilidades\n",
        "for i in range(19):\n",
        "    print(f\"P_{i+1}: {result[i]:.4f}\")\n",
        "\n",
        "# Calcular valor esperado\n",
        "valor_esperado = sum((i+1) * result[i] for i in range(19))\n",
        "print(\"Lanzamientos:\", valor_esperado)\n"
      ],
      "metadata": {
        "id": "8-l559K1lTXQ",
        "outputId": "08eef744-d3c1-44de-955c-334424f6d055",
        "colab": {
          "base_uri": "https://localhost:8080/"
        }
      },
      "execution_count": 9,
      "outputs": [
        {
          "output_type": "stream",
          "name": "stdout",
          "text": [
            "P_1: 0.0678\n",
            "P_2: 0.0673\n",
            "P_3: 0.0576\n",
            "P_4: 0.0772\n",
            "P_5: 0.0659\n",
            "P_6: 0.0641\n",
            "P_7: 0.0667\n",
            "P_8: 0.0626\n",
            "P_9: 0.0569\n",
            "P_10: 0.0613\n",
            "P_11: 0.0560\n",
            "P_12: 0.0486\n",
            "P_13: 0.0788\n",
            "P_14: 0.0332\n",
            "P_15: 0.0197\n",
            "P_16: 0.0253\n",
            "P_17: 0.0629\n",
            "P_18: 0.0101\n",
            "P_19: 0.0181\n",
            "Lanzamientos: 8.472902485240478\n"
          ]
        }
      ]
    },
    {
      "cell_type": "markdown",
      "source": [
        "**Simulación**"
      ],
      "metadata": {
        "id": "Y86WrrV356A2"
      }
    },
    {
      "cell_type": "code",
      "source": [
        "import random as rnd\n",
        "import numpy as np"
      ],
      "metadata": {
        "id": "-Fa1yNUHqApm"
      },
      "execution_count": 1,
      "outputs": []
    },
    {
      "cell_type": "code",
      "source": [
        "# Serpientes y escaleras\n",
        "def lanzar_dado():\n",
        "    return rnd.randint(1, 6)\n",
        "\n",
        "def juego_tablero():\n",
        "    tablero = 0\n",
        "    lanzamientos = 0\n",
        "    serpientes = 0\n",
        "    escaleras = 0\n",
        "    meta = 20\n",
        "\n",
        "    while tablero < meta:\n",
        "        dado = lanzar_dado()\n",
        "        lanzamientos += 1\n",
        "        tablero += dado\n",
        "\n",
        "        # Si se pasa de la meta, ajustamos a la meta\n",
        "        if tablero > meta:\n",
        "            tablero = meta\n",
        "\n",
        "        # Comprobamos si cae en una escalera\n",
        "        if tablero == 3:\n",
        "            tablero += 8\n",
        "            escaleras += 1\n",
        "        elif tablero == 15:\n",
        "            tablero += 4\n",
        "            escaleras += 1\n",
        "\n",
        "        # Comprobamos si cae en una serpiente\n",
        "        elif tablero == 13:\n",
        "            tablero -= 9\n",
        "            serpientes += 1\n",
        "        elif tablero == 17:\n",
        "            tablero -= 7\n",
        "            serpientes += 1\n",
        "\n",
        "    return lanzamientos\n",
        "\n",
        "# Simulacion\n",
        "def experimentos(n):\n",
        "  lista = []\n",
        "  for i in range(n):\n",
        "    C = juego_tablero()\n",
        "    lista.append(C)\n",
        "  return lista\n",
        "\n",
        "H = experimentos(1000)\n",
        "print(f\"Promedio:\", np.mean(H))"
      ],
      "metadata": {
        "colab": {
          "base_uri": "https://localhost:8080/"
        },
        "id": "4EjK7qrGvqje",
        "outputId": "2127ff3d-d68e-41e7-8340-49a8f6f8a018"
      },
      "execution_count": 8,
      "outputs": [
        {
          "output_type": "stream",
          "name": "stdout",
          "text": [
            "Promedio: 7.176\n"
          ]
        }
      ]
    }
  ]
}