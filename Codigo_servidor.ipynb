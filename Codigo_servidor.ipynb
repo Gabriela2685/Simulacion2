{
  "nbformat": 4,
  "nbformat_minor": 0,
  "metadata": {
    "colab": {
      "provenance": [],
      "authorship_tag": "ABX9TyO0WDX0nByxWD4aCM4RRlez",
      "include_colab_link": true
    },
    "kernelspec": {
      "name": "python3",
      "display_name": "Python 3"
    },
    "language_info": {
      "name": "python"
    }
  },
  "cells": [
    {
      "cell_type": "markdown",
      "metadata": {
        "id": "view-in-github",
        "colab_type": "text"
      },
      "source": [
        "<a href=\"https://colab.research.google.com/github/Gabriela2685/Simulacion2/blob/main/Codigo_servidor.ipynb\" target=\"_parent\"><img src=\"https://colab.research.google.com/assets/colab-badge.svg\" alt=\"Open In Colab\"/></a>"
      ]
    },
    {
      "cell_type": "markdown",
      "source": [
        "#Cola con un servidor\n",
        "\n"
      ],
      "metadata": {
        "id": "SyQXLIPXWjHH"
      }
    },
    {
      "cell_type": "code",
      "source": [
        "import math\n",
        "import random"
      ],
      "metadata": {
        "id": "7_T2Sfhgb50u"
      },
      "execution_count": 2,
      "outputs": []
    },
    {
      "cell_type": "code",
      "execution_count": 1,
      "metadata": {
        "colab": {
          "base_uri": "https://localhost:8080/"
        },
        "id": "LyRp_DGWVAk1",
        "outputId": "6bcac272-8dc5-4b1a-a5e8-252fd4faa6a9"
      },
      "outputs": [
        {
          "output_type": "stream",
          "name": "stdout",
          "text": [
            "Número total de llegadas (N_LL): 49\n",
            "Número total de salidas (N_S): 49\n",
            "Tiempo total en el sistema (Tp): 0\n",
            "Tiempos de llegada (LL): [2.7919269518571572, 2.8204782601126417, 6.189491287523792, 6.880386578669027, 7.954146313910239, 10.48980860971854, 12.289556269498785, 13.258260383844227, 13.656147531623635, 14.262496806433912, 15.018839367152257, 15.41464275025851, 17.36537235388396, 19.36489243664621, 20.668233655395955, 27.943171839087796, 27.975954211109944, 29.247395732775097, 31.29919694752069, 31.924499789899233, 32.769984488463834, 33.05410584009267, 34.52478342763565, 36.73941718488523, 37.78830917050741, 38.24446392921754, 40.13287717116376, 40.33266698176755, 43.30517410821767, 43.41295119569069, 48.13846796409616, 49.03438064817574, 53.631165897091165, 54.743671877578336, 57.814917602448986, 59.478233159928344, 62.832253682411896, 64.2144417323423, 66.1351591173157, 66.71237997801288, 67.42464090359945, 78.76302501806624, 82.7369672174267, 84.34658915035989, 85.89431830270946, 91.03206528042507, 93.05277113210188, 98.26484396328019, 99.93023561001039]\n",
            "Tiempos de salida (S): [4.3262667401282355, 7.461018447769156, 8.278734253721161, 9.818647996588982, 14.54750309016992, 20.206034097836174, 21.366440203471644, 22.568774335630607, 26.047237230365866, 26.369009477419286, 27.905753908381502, 34.43106541943294, 38.047893855722066, 45.57267465477016, 55.97779262230815, 61.49374079881282, 72.9764811110651, 73.49214764726713, 78.27192419820818, 89.15335678186223, 91.36688720883036, 92.65340020698929, 95.18012451954237, 107.01432643145583, 108.78051856884143, 113.67973643609145, 117.9218146553024, 118.76767897733568, 120.54469093600297, 127.04401207376023, 140.09890909616212, 142.6638540661794, 143.30245244040847, 143.6198749259921, 144.30757795032198, 150.60118912162176, 150.79644196274506, 154.6430633469262, 160.86116362680752, 162.54921875205082, 175.26487853410367, 181.89913965000517, 192.7280249965521, 192.94918480547585, 202.2543622565649, 209.03547974647955, 209.41974270003422, 210.54057113162193, 211.31858422520955]\n"
          ]
        }
      ],
      "source": [
        "# Función para generar un tiempo aleatorio exponencial con una tasa dada\n",
        "def generar_tiempo_exponencial(tasa):\n",
        "    return -math.log(1.0 - random.random()) / tasa\n",
        "\n",
        "# Inicialización\n",
        "t = 0  # Tiempo actual\n",
        "n = 0  # Número de eventos en el sistema\n",
        "N_LL = 0  # Contador de llegadas\n",
        "N_S = 0  # Contador de salidas\n",
        "Tp = 0  # Tiempo total en el sistema\n",
        "\n",
        "# Configuraciones iniciales\n",
        "T = 100  # Tiempo total de simulación\n",
        "tasa_llegadas = 0.5  # Tasa de llegadas\n",
        "tasa_servicio = 0.3  # Tasa de servicio\n",
        "\n",
        "# Generar T0 con una subrutina y asignar valores iniciales\n",
        "T0 = generar_tiempo_exponencial(tasa_llegadas)\n",
        "t_LL = T0\n",
        "t_S = float('inf')\n",
        "\n",
        "# Listas para almacenar tiempos de llegada y salida\n",
        "LL = []  # Lista de tiempos de llegada\n",
        "S = []   # Lista de tiempos de salida\n",
        "\n",
        "# Bucle principal de la simulación\n",
        "while (t_LL <= t_S and t_LL <= T) or (t_S <= T) or (t_S > T and t_LL > T and n > 0):\n",
        "    if t_LL <= t_S and t_LL <= T:  # Caso 1: Llegada de evento\n",
        "        t = t_LL\n",
        "        N_LL += 1\n",
        "        n += 1\n",
        "        LL.append(t)\n",
        "        Tt = generar_tiempo_exponencial(tasa_llegadas)\n",
        "        t_LL = t + Tt\n",
        "        if n == 1:\n",
        "            Y = generar_tiempo_exponencial(tasa_servicio)\n",
        "            t_S = t + Y\n",
        "    elif t_LL > t_S and t_S <= T:  # Caso 2: Salida de evento\n",
        "        t = t_S\n",
        "        N_S += 1\n",
        "        n -= 1\n",
        "        S.append(t)\n",
        "        if n == 0:\n",
        "            t_S = float('inf')\n",
        "        else:\n",
        "            Y = generar_tiempo_exponencial(tasa_servicio)\n",
        "            t_S = t + Y\n",
        "    elif t_S > T and t_LL > T and n > 0:  # Caso 3: Eventos restantes después de T\n",
        "        t = t_S\n",
        "        N_S += 1\n",
        "        n -= 1\n",
        "        S.append(t)\n",
        "        if n > 0:\n",
        "            Y = generar_tiempo_exponencial(tasa_servicio)\n",
        "            t_S = t + Y\n",
        "        else:\n",
        "            t_S = float('inf')\n",
        "    elif t_S > T and t_LL > T and n == 0:  # Caso 4: Finalización de la simulación\n",
        "        Tp = max(0, t - T)\n",
        "        break  # Salir del bucle\n",
        "\n",
        "# Resultados finales\n",
        "print(\"Número total de llegadas (N_LL):\", N_LL)\n",
        "print(\"Número total de salidas (N_S):\", N_S)\n",
        "print(\"Tiempo total en el sistema (Tp):\", Tp)\n",
        "print(\"Tiempos de llegada (LL):\", LL)\n",
        "print(\"Tiempos de salida (S):\", S)"
      ]
    }
  ]
}