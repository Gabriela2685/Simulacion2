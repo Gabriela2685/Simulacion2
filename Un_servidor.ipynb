{
  "nbformat": 4,
  "nbformat_minor": 0,
  "metadata": {
    "colab": {
      "provenance": [],
      "authorship_tag": "ABX9TyN9GXppF1bpLYOneYLRMiy6",
      "include_colab_link": true
    },
    "kernelspec": {
      "name": "python3",
      "display_name": "Python 3"
    },
    "language_info": {
      "name": "python"
    }
  },
  "cells": [
    {
      "cell_type": "markdown",
      "metadata": {
        "id": "view-in-github",
        "colab_type": "text"
      },
      "source": [
        "<a href=\"https://colab.research.google.com/github/Gabriela2685/Simulacion2/blob/main/Un_servidor.ipynb\" target=\"_parent\"><img src=\"https://colab.research.google.com/assets/colab-badge.svg\" alt=\"Open In Colab\"/></a>"
      ]
    },
    {
      "cell_type": "markdown",
      "source": [
        "#Ejemplo 5.2.1\n",
        "Supongamos que las llegadas se producen según un NHPP co función de intensidad de(en horas) y con tiempo de cierre T_p = 9. Para el tiempo de atención en el servidor, en horas, se simula de una exponencial exp(20)"
      ],
      "metadata": {
        "id": "nQkqJyDdjNie"
      }
    },
    {
      "cell_type": "code",
      "source": [
        "import math\n",
        "import random"
      ],
      "metadata": {
        "id": "6rvU4hgMjIX5"
      },
      "execution_count": 7,
      "outputs": []
    },
    {
      "cell_type": "code",
      "source": [
        "# Función para generar un tiempo aleatorio exponencial\n",
        "def generar_tiempo_exponencial(tasa):\n",
        "    return -math.log(1.0 - random.random()) / tasa\n",
        "\n",
        "# Función lambda(t) para el NHPP\n",
        "def lambda_t(t):\n",
        "    if 0 <= t <= 3:\n",
        "        return 5 + 5 * t\n",
        "    elif 3 < t <= 5:\n",
        "        return 20\n",
        "    elif 5 < t <= 9:\n",
        "        return 20 - 2 * (t - 5)\n",
        "    else:\n",
        "        return 0\n",
        "\n",
        "# Parámetros de la simulación\n",
        "T_p = 9  # Tiempo de cierre\n",
        "lambda_max = 20  # Tasa máxima de llegadas\n",
        "mu = 20  # Tasa de servicio\n",
        "n_jornadas = 100  # Número de jornadas a simular\n",
        "\n",
        "# Inicialización de variables para acumulación de métricas\n",
        "acum_tiempo_medio_en_sistema = 0\n",
        "acum_numero_medio_clientes = 0\n",
        "acum_tiempo_despues_cierre = 0\n",
        "acum_ultima_salida = 0\n",
        "\n",
        "# Simulación para n jornadas\n",
        "for _ in range(n_jornadas):\n",
        "    t = 0\n",
        "    n = 0\n",
        "    N_LL = 0\n",
        "    N_S = 0\n",
        "    t_S = float('inf')\n",
        "\n",
        "    LL = []  # Lista para tiempos de llegada\n",
        "    S = []   # Lista para tiempos de salida\n",
        "\n",
        "    # Generar llegadas utilizando el método de thinning\n",
        "    while t < T_p:\n",
        "        Tt = generar_tiempo_exponencial(lambda_max)\n",
        "        t += Tt\n",
        "        if t > T_p:\n",
        "            break\n",
        "        if random.random() <= lambda_t(t) / lambda_max:\n",
        "            N_LL += 1\n",
        "            n += 1\n",
        "            LL.append(t)\n",
        "            if n == 1:\n",
        "                Y = generar_tiempo_exponencial(mu)\n",
        "                t_S = t + Y\n",
        "\n",
        "    # Procesar salidas\n",
        "    for i in range(len(LL)):\n",
        "        if LL[i] < t_S and LL[i] <= T_p:\n",
        "            N_S += 1\n",
        "            n -= 1\n",
        "            S.append(t_S)\n",
        "            if n > 0:\n",
        "                Y = generar_tiempo_exponencial(mu)\n",
        "                t_S = t_S + Y\n",
        "            else:\n",
        "                t_S = float('inf')\n",
        "        elif t_S > T_p:\n",
        "            Tp = max(0, t_S - T_p)\n",
        "            break\n",
        "\n",
        "    # Cálculo de métricas para la jornada actual\n",
        "    if len(S) > 0:\n",
        "        tiempo_total_en_sistema = sum([S[i] - LL[i] for i in range(len(S))])\n",
        "        tiempo_medio_en_sistema = tiempo_total_en_sistema / N_S if N_S > 0 else 0\n",
        "        numero_medio_clientes = tiempo_total_en_sistema / T_p\n",
        "        ultima_salida = S[-1]\n",
        "        tiempo_despues_cierre = ultima_salida - T_p if ultima_salida > T_p else 0\n",
        "    else:\n",
        "        tiempo_medio_en_sistema = 0\n",
        "        numero_medio_clientes = 0\n",
        "        ultima_salida = 0\n",
        "        tiempo_despues_cierre = 0\n",
        "\n",
        "    # Acumular las métricas para calcular promedios al final\n",
        "    acum_tiempo_medio_en_sistema += tiempo_medio_en_sistema\n",
        "    acum_numero_medio_clientes += numero_medio_clientes\n",
        "    acum_tiempo_despues_cierre += tiempo_despues_cierre\n",
        "    acum_ultima_salida += ultima_salida\n",
        "\n",
        "# Cálculo de promedios sobre las n jornadas\n",
        "promedio_tiempo_medio_en_sistema = acum_tiempo_medio_en_sistema / n_jornadas\n",
        "promedio_numero_medio_clientes = acum_numero_medio_clientes / n_jornadas\n",
        "promedio_tiempo_despues_cierre = acum_tiempo_despues_cierre / n_jornadas\n",
        "promedio_ultima_salida = acum_ultima_salida / n_jornadas\n",
        "\n",
        "# Resultados finales\n",
        "print(\"Promedio del tiempo medio del cliente en el sistema:\", promedio_tiempo_medio_en_sistema)\n",
        "print(\"Promedio del número medio de clientes en el sistema:\", promedio_numero_medio_clientes)\n",
        "print(\"Promedio del tiempo después del cierre:\", promedio_tiempo_despues_cierre)\n",
        "print(\"Promedio de la última salida:\", promedio_ultima_salida)"
      ],
      "metadata": {
        "colab": {
          "base_uri": "https://localhost:8080/"
        },
        "id": "WP_IYbr4idwK",
        "outputId": "53e56027-63af-4533-fc5f-1a67c1e5b09c"
      },
      "execution_count": 8,
      "outputs": [
        {
          "output_type": "stream",
          "name": "stdout",
          "text": [
            "Promedio del tiempo medio del cliente en el sistema: 0.05220642789715902\n",
            "Promedio del número medio de clientes en el sistema: 0.01698124649465377\n",
            "Promedio del tiempo después del cierre: 0.0\n",
            "Promedio de la última salida: 0.2702956232318406\n"
          ]
        }
      ]
    }
  ]
}